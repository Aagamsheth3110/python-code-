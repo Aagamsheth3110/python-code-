{
  "nbformat": 4,
  "nbformat_minor": 0,
  "metadata": {
    "colab": {
      "name": "file & function.ipynb",
      "provenance": [],
      "authorship_tag": "ABX9TyNA2c7ZyzLbo5CtgBdDkVbx",
      "include_colab_link": true
    },
    "kernelspec": {
      "display_name": "Python 3",
      "name": "python3"
    },
    "language_info": {
      "name": "python"
    }
  },
  "cells": [
    {
      "cell_type": "markdown",
      "metadata": {
        "id": "view-in-github",
        "colab_type": "text"
      },
      "source": [
        "<a href=\"https://colab.research.google.com/github/Aagamsheth3110/Aagamsheth3110/blob/main/file_%26_function.ipynb\" target=\"_parent\"><img src=\"https://colab.research.google.com/assets/colab-badge.svg\" alt=\"Open In Colab\"/></a>"
      ]
    },
    {
      "cell_type": "code",
      "metadata": {
        "colab": {
          "base_uri": "https://localhost:8080/"
        },
        "id": "7ri6JK-4c4dD",
        "outputId": "55a39c71-23a1-4d7b-e6c2-1022e5b5ee62"
      },
      "source": [
        "\n",
        "f = open(\"/content/1.txt\",'rt')\n",
        "print(f.readline())\n",
        "f.close()"
      ],
      "execution_count": null,
      "outputs": [
        {
          "output_type": "stream",
          "name": "stdout",
          "text": [
            "import phonenumbers\n",
            "\n"
          ]
        }
      ]
    },
    {
      "cell_type": "code",
      "metadata": {
        "colab": {
          "base_uri": "https://localhost:8080/"
        },
        "id": "6enpwByoeTxX",
        "outputId": "a1bb0ab9-08a8-493e-abb4-6e79a2b0bfd6"
      },
      "source": [
        "f = open(\"/content/1.txt\",'rt')\n",
        "print(list(f))\n",
        "f.close"
      ],
      "execution_count": null,
      "outputs": [
        {
          "output_type": "stream",
          "name": "stdout",
          "text": [
            "['import phonenumbers\\n', 'import geocoder\\n']\n"
          ]
        },
        {
          "output_type": "execute_result",
          "data": {
            "text/plain": [
              "<function TextIOWrapper.close>"
            ]
          },
          "metadata": {},
          "execution_count": 7
        }
      ]
    },
    {
      "cell_type": "code",
      "metadata": {
        "colab": {
          "base_uri": "https://localhost:8080/"
        },
        "id": "2BUwa9Goe8t0",
        "outputId": "8e0dec3a-3a99-4f65-f8cb-8c0d9971ab20"
      },
      "source": [
        "f  = open(\"/content/1.txt\",'rt')\n",
        "for i in f:\n",
        " print (i)\n",
        "f.close()"
      ],
      "execution_count": null,
      "outputs": [
        {
          "output_type": "stream",
          "name": "stdout",
          "text": [
            "import phonenumbers\n",
            "\n",
            "import geocoder\n",
            "\n"
          ]
        }
      ]
    },
    {
      "cell_type": "code",
      "metadata": {
        "colab": {
          "base_uri": "https://localhost:8080/"
        },
        "id": "uoQwCGC_gLSc",
        "outputId": "20c7ae57-fd2d-4e95-d910-41c1c001f71b"
      },
      "source": [
        "with open(\"/content/1.txt\",'rt')as f:\n",
        "  print(f.read())\n",
        "f.close()"
      ],
      "execution_count": null,
      "outputs": [
        {
          "output_type": "stream",
          "name": "stdout",
          "text": [
            "import phonenumbers\n",
            "import geocoder\n",
            "\n"
          ]
        }
      ]
    },
    {
      "cell_type": "code",
      "metadata": {
        "id": "k8woSetcgrxb"
      },
      "source": [
        "f = open(\"/content/1.txt\",'wt')\n",
        "f.write(\"hi I am Aagam sheth\")\n",
        "f.close()"
      ],
      "execution_count": null,
      "outputs": []
    },
    {
      "cell_type": "code",
      "metadata": {
        "id": "6W9LBeVUhDc9"
      },
      "source": [
        "f = open(\"/content/1.txt\",'wt')\n",
        "lines = [\"i am electronic engineer\\n\",\"Karan has only one gf\\n\"]\n",
        "f.writelines(lines)\n",
        "f.close()"
      ],
      "execution_count": null,
      "outputs": []
    },
    {
      "cell_type": "code",
      "metadata": {
        "id": "QZUV4xZSh1el"
      },
      "source": [
        "f = open(\"/content/1.txt\",'a')\n",
        "f.write(\"i am very nice person\\n\")\n",
        "f.close()"
      ],
      "execution_count": null,
      "outputs": []
    },
    {
      "cell_type": "code",
      "metadata": {
        "id": "-CQx7nmqib_3",
        "colab": {
          "base_uri": "https://localhost:8080/"
        },
        "outputId": "8732b102-a072-4ba3-e313-160d304fc2c4"
      },
      "source": [
        "f = open(\"/content/1.txt\",\"rt\")\n",
        "lines = f.readline()\n",
        "lines2 = f.readline()\n",
        "word_line = lines.split()\n",
        "word_line2 = lines2.split()\n",
        "print(word_line)\n",
        "print(word_line2)"
      ],
      "execution_count": null,
      "outputs": [
        {
          "output_type": "stream",
          "name": "stdout",
          "text": [
            "['i', 'am', 'electronic', 'engineer']\n",
            "['Karan', 'has', 'only', 'one', 'gf']\n"
          ]
        }
      ]
    },
    {
      "cell_type": "code",
      "metadata": {
        "id": "0V6PDKqjkP0g",
        "colab": {
          "base_uri": "https://localhost:8080/"
        },
        "outputId": "b9d77876-d77e-4e67-ef20-786b6c8e0db7"
      },
      "source": [
        "n = int(input(\"enter a num of lines :\"))\n",
        "f  = open(\"/content/1.txt\",'wt')\n",
        "for i in range(0,n):\n",
        "  print(\"Enter line:\")\n",
        "  line = input()\n",
        "  f.write(\"\\n\"+line)\n",
        "f.close()\n",
        "nf = open (\"/content/1.txt\",'rt')\n",
        "f = open (\"/content/1.txt\",'wt')\n",
        "for i in range(0,n+1):\n",
        "  line = nf.readline()\n",
        "  f.write(\"\\n\"+line)\n",
        "nf.close()\n",
        "f.close()\n",
        "print(\"the contents of the 'two.txt\")\n",
        "nf = open(\"/content/1.txt\",'rt')\n",
        "print(nf.read())\n",
        "nf.close()"
      ],
      "execution_count": null,
      "outputs": [
        {
          "output_type": "stream",
          "name": "stdout",
          "text": [
            "enter a num of lines :3\n",
            "Enter line:\n",
            "Hii\n",
            "Enter line:\n",
            "How are you\n",
            "Enter line:\n",
            "Fine\n",
            "the contents of the 'two.txt\n",
            "\n",
            "\n",
            "\n",
            "\n",
            "\n"
          ]
        }
      ]
    },
    {
      "cell_type": "code",
      "metadata": {
        "colab": {
          "base_uri": "https://localhost:8080/"
        },
        "id": "gb9NNZiIdr5e",
        "outputId": "d817c244-3ca7-4efd-95d3-e88d216c83fb"
      },
      "source": [
        "n = int(input(\"enter a num of lines :\"))\n",
        "f  = open(\"/content/1.txt\",'wt')\n",
        "for i in range(0,n):\n",
        "  print(\"Enter line:\")\n",
        "  line = input()\n",
        "  f.write(\"\\n\"+line)\n",
        "f.close()\n",
        "print(\"the contents of new file\")\n",
        "f = open(\"/content/1.txt\",'rt')\n",
        "print(f.read())\n",
        "f.close()"
      ],
      "execution_count": null,
      "outputs": [
        {
          "output_type": "stream",
          "name": "stdout",
          "text": [
            "enter a num of lines :2\n",
            "Enter line:\n",
            "Hii \n",
            "Enter line:\n",
            "How are you\n",
            "the contents of new file\n",
            "\n",
            "Hii \n",
            "How are you\n"
          ]
        }
      ]
    },
    {
      "cell_type": "code",
      "metadata": {
        "id": "DaEtsMZyn_17",
        "colab": {
          "base_uri": "https://localhost:8080/"
        },
        "outputId": "32aa68e3-c616-48ae-e7cb-ae98e8e4949a"
      },
      "source": [
        "try:\n",
        "  a = int(input(\"enter numerator = \"))\n",
        "  b = int(input(\"enter denominator =\"))\n",
        "  if b==0:\n",
        "    raise DivideByZero\n",
        "    c=(a/b)\n",
        "    print(\"result is \",c)\n",
        "except DivideByZero:\n",
        "    print(\"error\")\n",
        "    print(c)"
      ],
      "execution_count": null,
      "outputs": [
        {
          "name": "stdout",
          "output_type": "stream",
          "text": [
            "enter numerator = 5\n",
            "enter denominator =5\n"
          ]
        }
      ]
    },
    {
      "cell_type": "code",
      "metadata": {
        "id": "Em0K87RDUS5m"
      },
      "source": [
        "f =open(\"/content/1.txt\",'rt')\n",
        "lines =[]\n",
        "lines = f.readlines()\n",
        "f.close()\n",
        "f = open(\"/content/1.txt\",'wt')\n",
        "for i in reversed(lines):\n",
        "  f.write(i)\n",
        "f.close()"
      ],
      "execution_count": null,
      "outputs": []
    },
    {
      "cell_type": "code",
      "metadata": {
        "colab": {
          "base_uri": "https://localhost:8080/"
        },
        "id": "3QeKatrdpnOh",
        "outputId": "4bca477a-38be-4e42-b709-9dce81b95789"
      },
      "source": [
        "def Reverse(num):\n",
        "  sum=0\n",
        "  while(num!=0):\n",
        "     sum=sum*10+num%10\n",
        "     num=num//10\n",
        "  return sum\n",
        "num= int(input(\"enter no:\"))\n",
        "Reverse(num)"
      ],
      "execution_count": null,
      "outputs": [
        {
          "name": "stdout",
          "output_type": "stream",
          "text": [
            "enter no:621\n"
          ]
        },
        {
          "output_type": "execute_result",
          "data": {
            "text/plain": [
              "126"
            ]
          },
          "metadata": {},
          "execution_count": 29
        }
      ]
    },
    {
      "cell_type": "code",
      "metadata": {
        "id": "-KyBYFgHsf6K",
        "outputId": "efef2ba7-480c-4255-8742-ab73e2188429",
        "colab": {
          "base_uri": "https://localhost:8080/"
        }
      },
      "source": [
        "def leap(year):\n",
        "  if (year%4==0):\n",
        "     if (year%400==0):\n",
        "       print(\"is a leap year\")\n",
        "     elif(year%100==0):\n",
        "       print(\"is not a leap year\") \n",
        "  else:\n",
        "       print(\" is not a leap year\")\n",
        "year=int(input(\"enter year\"))\n",
        "leap(year)"
      ],
      "execution_count": null,
      "outputs": [
        {
          "output_type": "stream",
          "name": "stdout",
          "text": [
            "enter year2002\n",
            " is not a leap year\n"
          ]
        }
      ]
    },
    {
      "cell_type": "code",
      "metadata": {
        "id": "skwV_vz6vLWU",
        "outputId": "ef220519-7c9e-420b-b824-20d92e0f18c3",
        "colab": {
          "base_uri": "https://localhost:8080/"
        }
      },
      "source": [
        "def isprime(lower,upper):\n",
        "  for i in range (lower,upper+1):\n",
        "    if num>1:\n",
        "      for n in range(2,num):\n",
        "        if(num%i)==0:\n",
        "          break\n",
        "        else:\n",
        "          print(num)\n",
        "lower = int(input (\"Enter the lower no:\"))\n",
        "upper = int(input (\"Enter the upper no:\"))\n",
        "isprime (lower,upper)"
      ],
      "execution_count": null,
      "outputs": [
        {
          "name": "stdout",
          "output_type": "stream",
          "text": [
            "Enter the lower no:6\n",
            "Enter the upper no:4\n"
          ]
        }
      ]
    },
    {
      "cell_type": "code",
      "metadata": {
        "colab": {
          "base_uri": "https://localhost:8080/"
        },
        "id": "Oaz9VocTwQVG",
        "outputId": "38f2d19f-fdae-4c97-b728-22414e0a57ea"
      },
      "source": [
        "def factorial (n):\n",
        "  ans=1\n",
        "  for i in range(n,0,-1):\n",
        "    ans=ans*i\n",
        "  return ans\n",
        "n=int(input(\"enter no: \"))\n",
        "factorial (n)"
      ],
      "execution_count": null,
      "outputs": [
        {
          "name": "stdout",
          "output_type": "stream",
          "text": [
            "enter no: 5\n"
          ]
        },
        {
          "output_type": "execute_result",
          "data": {
            "text/plain": [
              "120"
            ]
          },
          "metadata": {},
          "execution_count": 31
        }
      ]
    }
  ]
}