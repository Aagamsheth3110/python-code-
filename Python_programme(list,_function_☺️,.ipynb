{
  "nbformat": 4,
  "nbformat_minor": 0,
  "metadata": {
    "colab": {
      "name": "Python programme(list, function ☺️,.ipynb",
      "provenance": [],
      "collapsed_sections": [],
      "authorship_tag": "ABX9TyMVmZ5+vAEipk8oBvendshm",
      "include_colab_link": true
    },
    "kernelspec": {
      "display_name": "Python 3",
      "name": "python3"
    },
    "language_info": {
      "name": "python"
    }
  },
  "cells": [
    {
      "cell_type": "markdown",
      "metadata": {
        "id": "view-in-github",
        "colab_type": "text"
      },
      "source": [
        "<a href=\"https://colab.research.google.com/github/Aagamsheth3110/Aagamsheth3110/blob/main/Python_programme(list%2C_function_%E2%98%BA%EF%B8%8F%2C.ipynb\" target=\"_parent\"><img src=\"https://colab.research.google.com/assets/colab-badge.svg\" alt=\"Open In Colab\"/></a>"
      ]
    },
    {
      "cell_type": "code",
      "metadata": {
        "colab": {
          "base_uri": "https://localhost:8080/"
        },
        "id": "Ph2R6CmfxsU5",
        "outputId": "109a2bab-5b96-4760-cf2c-93cbf5277bb1"
      },
      "source": [
        "import itertools\n",
        "num=[1,2,3,4]\n",
        "list(itertools.repeat(num,2))"
      ],
      "execution_count": null,
      "outputs": [
        {
          "output_type": "execute_result",
          "data": {
            "text/plain": [
              "[[1, 2, 3, 4], [1, 2, 3, 4]]"
            ]
          },
          "metadata": {},
          "execution_count": 1
        }
      ]
    },
    {
      "cell_type": "code",
      "metadata": {
        "colab": {
          "base_uri": "https://localhost:8080/"
        },
        "id": "H6u9w5d_xs0J",
        "outputId": "f79015ee-cdfa-4231-e59c-9ac7f4e5c4fc"
      },
      "source": [
        "name = [\"aagam\",\"bhavi\",\"kajal\"]\n",
        "length=list(map(len,name))\n",
        "print (length)"
      ],
      "execution_count": null,
      "outputs": [
        {
          "output_type": "stream",
          "name": "stdout",
          "text": [
            "[5, 5, 5]\n"
          ]
        }
      ]
    },
    {
      "cell_type": "code",
      "metadata": {
        "id": "bfoGauSexs-h"
      },
      "source": [
        "def test_name(x):\n",
        "  return x+3\n",
        "  new_list=list(map(test_name,range(10)))\n",
        "  print(new_list)"
      ],
      "execution_count": null,
      "outputs": []
    },
    {
      "cell_type": "code",
      "metadata": {
        "colab": {
          "base_uri": "https://localhost:8080/"
        },
        "id": "LnDHnThqxtBg",
        "outputId": "ef906dce-4234-49b1-82c6-df3bfe4a628d"
      },
      "source": [
        "n = int(input(\"enter the marks:\"))\n",
        "if n>=75:\n",
        "  print (\"grade: distinction\")\n",
        "elif n>=60:\n",
        "  print(\"grade:First class\")\n",
        "elif n>=45:\n",
        "  print(\"grade:second class\")\n",
        "elif n>=35:\n",
        "  print(\"grade:pass\")\n",
        "else:\n",
        "  print(\"grade:fail\")"
      ],
      "execution_count": null,
      "outputs": [
        {
          "output_type": "stream",
          "name": "stdout",
          "text": [
            "enter the marks:56\n",
            "grade:second class\n"
          ]
        }
      ]
    },
    {
      "cell_type": "code",
      "metadata": {
        "colab": {
          "base_uri": "https://localhost:8080/"
        },
        "id": "DMRyqS4NxtEJ",
        "outputId": "74ad4b6d-508e-41c4-97b5-08366bcf6e3e"
      },
      "source": [
        "n=int(input (\"enter the no: \"))\n",
        "sum=0\n",
        "avg=0\n",
        "i=0\n",
        "while i<=n:\n",
        "  i=i+1\n",
        "  sum=sum+i\n",
        "  avg=sum/n\n",
        "  print(\"sum is : \",sum)\n",
        "  print (\"avg is :\",avg)"
      ],
      "execution_count": null,
      "outputs": [
        {
          "output_type": "stream",
          "name": "stdout",
          "text": [
            "enter the no: 10\n",
            "sum is :  1\n",
            "avg is : 0.1\n",
            "sum is :  3\n",
            "avg is : 0.3\n",
            "sum is :  6\n",
            "avg is : 0.6\n",
            "sum is :  10\n",
            "avg is : 1.0\n",
            "sum is :  15\n",
            "avg is : 1.5\n",
            "sum is :  21\n",
            "avg is : 2.1\n",
            "sum is :  28\n",
            "avg is : 2.8\n",
            "sum is :  36\n",
            "avg is : 3.6\n",
            "sum is :  45\n",
            "avg is : 4.5\n",
            "sum is :  55\n",
            "avg is : 5.5\n",
            "sum is :  66\n",
            "avg is : 6.6\n"
          ]
        }
      ]
    },
    {
      "cell_type": "code",
      "metadata": {
        "colab": {
          "base_uri": "https://localhost:8080/"
        },
        "id": "no41yiPPxtJz",
        "outputId": "1fda4460-3a6e-4c43-a9b2-89d46ced1ca4"
      },
      "source": [
        "n=int(input(\"enter the no:\"))\n",
        "i=1\n",
        "for i in range (1,n+1):\n",
        "  if i%2==0:\n",
        "    print(i,\"is even no\")\n",
        "  if i%2==1:\n",
        "    print(i,\"is odd no\")"
      ],
      "execution_count": null,
      "outputs": [
        {
          "output_type": "stream",
          "name": "stdout",
          "text": [
            "enter the no:10\n",
            "1 is odd no\n",
            "2 is even no\n",
            "3 is odd no\n",
            "4 is even no\n",
            "5 is odd no\n",
            "6 is even no\n",
            "7 is odd no\n",
            "8 is even no\n",
            "9 is odd no\n",
            "10 is even no\n"
          ]
        }
      ]
    },
    {
      "cell_type": "code",
      "metadata": {
        "colab": {
          "base_uri": "https://localhost:8080/"
        },
        "id": "mbqa5DvS_Soa",
        "outputId": "77e5b582-a613-4ace-8df2-679aa0afb79a"
      },
      "source": [
        "n=int(input(\"enter the Fibonacci series:\"))\n",
        "a=0\n",
        "b=1\n",
        "i=0\n",
        "while i<n:\n",
        "  c=a+b\n",
        "  a=b \n",
        "  b=c\n",
        "  i=i+1\n",
        "  print(a)"
      ],
      "execution_count": null,
      "outputs": [
        {
          "output_type": "stream",
          "name": "stdout",
          "text": [
            "enter the Fibonacci series:6\n",
            "1\n",
            "1\n",
            "2\n",
            "3\n",
            "5\n",
            "8\n"
          ]
        }
      ]
    },
    {
      "cell_type": "code",
      "metadata": {
        "colab": {
          "base_uri": "https://localhost:8080/"
        },
        "id": "-DKzhHENAX3b",
        "outputId": "94de7216-e90d-47d0-89ec-09186a55156c"
      },
      "source": [
        "n=int(input(\"enter the no:\"))\n",
        "for i in range(1,n+1):\n",
        "  for j in range(1,i+1):\n",
        "    print(\"*\",end=\"\")\n",
        "  print(\" \")"
      ],
      "execution_count": null,
      "outputs": [
        {
          "name": "stdout",
          "output_type": "stream",
          "text": [
            "enter the no:5\n",
            "* \n",
            "** \n",
            "*** \n",
            "**** \n",
            "***** \n"
          ]
        }
      ]
    },
    {
      "cell_type": "code",
      "metadata": {
        "id": "HYFtBVjYBHbM",
        "colab": {
          "base_uri": "https://localhost:8080/"
        },
        "outputId": "be03cb5d-9fc5-432a-f73c-c07bef34c5ca"
      },
      "source": [
        "n=int(input(\"enter the no:\"))\n",
        "for i in range(n,0,-1):\n",
        "  for j in range (1,i+1):\n",
        "    print(\"*\",end=\"\")\n",
        "  print(\"\")"
      ],
      "execution_count": null,
      "outputs": [
        {
          "output_type": "stream",
          "name": "stdout",
          "text": [
            "enter the no:5\n",
            "*****\n",
            "****\n",
            "***\n",
            "**\n",
            "*\n"
          ]
        }
      ]
    },
    {
      "cell_type": "code",
      "metadata": {
        "colab": {
          "base_uri": "https://localhost:8080/"
        },
        "id": "JOLsTxxwhRV0",
        "outputId": "a0eb5cf4-9b85-444e-ba27-6c5c96b69c22"
      },
      "source": [
        "n=int(input(\"enter the no:\"))\n",
        "for i in range(1,n+1):\n",
        "  for j in range (1,i+1):\n",
        "    print (\"*\",end=\"\")\n",
        "  print (\"\")\n",
        "for i in range(n-1,0,-1):\n",
        " for j in range(1,i+1):\n",
        "   print(\"*\",end=\"\")\n",
        " print (\"\")"
      ],
      "execution_count": null,
      "outputs": [
        {
          "output_type": "stream",
          "name": "stdout",
          "text": [
            "enter the no:5\n",
            "*\n",
            "**\n",
            "***\n",
            "****\n",
            "*****\n",
            "****\n",
            "***\n",
            "**\n",
            "*\n"
          ]
        }
      ]
    },
    {
      "cell_type": "code",
      "metadata": {
        "colab": {
          "base_uri": "https://localhost:8080/"
        },
        "id": "3zW3f9SAiijj",
        "outputId": "28f1e41c-b989-424f-8c1a-8fb2a54d2bd1"
      },
      "source": [
        "n=int(input(\"enter the no:\"))\n",
        "for i in range(1,n+1):\n",
        "  for j in range(1,i+1):\n",
        "    print(i,end=\"\")\n",
        "  print (\"\")"
      ],
      "execution_count": null,
      "outputs": [
        {
          "output_type": "stream",
          "name": "stdout",
          "text": [
            "enter the no:5\n",
            "1\n",
            "22\n",
            "333\n",
            "4444\n",
            "55555\n"
          ]
        }
      ]
    },
    {
      "cell_type": "code",
      "metadata": {
        "colab": {
          "base_uri": "https://localhost:8080/"
        },
        "id": "tV7geayjjWgd",
        "outputId": "cb0b8402-c642-4924-8970-61f9a3d23072"
      },
      "source": [
        "n=int(input(\"enter the no:\"))\n",
        "for i in range(1,n+1):\n",
        "  for j in range(1,i+1):\n",
        "    print(j,end=\"\")\n",
        "  print (\"\")"
      ],
      "execution_count": null,
      "outputs": [
        {
          "output_type": "stream",
          "name": "stdout",
          "text": [
            "enter the no:5\n",
            "1\n",
            "12\n",
            "123\n",
            "1234\n",
            "12345\n"
          ]
        }
      ]
    },
    {
      "cell_type": "code",
      "metadata": {
        "colab": {
          "base_uri": "https://localhost:8080/"
        },
        "id": "qudWHJjLjb6x",
        "outputId": "ed479cb0-40cb-4827-fc86-b2b5839aceeb"
      },
      "source": [
        "n=int(input(\"enter the no:\"))\n",
        "for i in range(1,n+1):\n",
        "  for j in range(1,i+1):\n",
        "    print(chr(64+j),end=\"\")\n",
        "  print (\"\")"
      ],
      "execution_count": null,
      "outputs": [
        {
          "output_type": "stream",
          "name": "stdout",
          "text": [
            "enter the no:5\n",
            "A\n",
            "AB\n",
            "ABC\n",
            "ABCD\n",
            "ABCDE\n"
          ]
        }
      ]
    },
    {
      "cell_type": "code",
      "metadata": {
        "colab": {
          "base_uri": "https://localhost:8080/"
        },
        "id": "vjROWFnzlDRb",
        "outputId": "972d7d70-b813-4017-8914-e47aa5229668"
      },
      "source": [
        "\n",
        "for i in range(1,6):\n",
        "  for j in range(1,i+1):\n",
        "    print(chr(96+j),end=\"\")\n",
        "  print (\"\")"
      ],
      "execution_count": null,
      "outputs": [
        {
          "output_type": "stream",
          "name": "stdout",
          "text": [
            "a\n",
            "ab\n",
            "abc\n",
            "abcd\n",
            "abcde\n"
          ]
        }
      ]
    },
    {
      "cell_type": "code",
      "metadata": {
        "colab": {
          "base_uri": "https://localhost:8080/"
        },
        "id": "WLN0DI8uljmE",
        "outputId": "1231a50f-ad17-4bc7-9bec-f2fab4c7d922"
      },
      "source": [
        "\n",
        "for i in range(0,11):\n",
        "  if i%2==0:\n",
        "    print (i,\"is even no\")"
      ],
      "execution_count": null,
      "outputs": [
        {
          "output_type": "stream",
          "name": "stdout",
          "text": [
            "0 is even no\n",
            "2 is even no\n",
            "4 is even no\n",
            "6 is even no\n",
            "8 is even no\n",
            "10 is even no\n"
          ]
        }
      ]
    },
    {
      "cell_type": "code",
      "metadata": {
        "colab": {
          "base_uri": "https://localhost:8080/"
        },
        "id": "Or57CXZgmn1f",
        "outputId": "7711acdf-8371-4d7c-e2cd-a6e0bc5c8546"
      },
      "source": [
        "d={11:\"Red\",12:\"Blue\",98:\"Green\",42:\"White\"}\n",
        "mylist1=list(d.keys())\n",
        "mylist2=list(d.values())\n",
        "print (mylist1)\n",
        "print (mylist2)\n",
        "mylist1.sort()\n",
        "print (mylist1)\n",
        "mylist2.sort()\n",
        "print (mylist2)"
      ],
      "execution_count": null,
      "outputs": [
        {
          "output_type": "stream",
          "name": "stdout",
          "text": [
            "[11, 12, 98, 42]\n",
            "['Red', 'Blue', 'Green', 'White']\n",
            "[11, 12, 42, 98]\n",
            "['Blue', 'Green', 'Red', 'White']\n"
          ]
        }
      ]
    },
    {
      "cell_type": "code",
      "metadata": {
        "colab": {
          "base_uri": "https://localhost:8080/"
        },
        "id": "kuwejC-IoDXy",
        "outputId": "7d327b51-375e-4da2-d3bb-5169cbf0cec7"
      },
      "source": [
        "d={11:\"Red\",12:\"Blue\",98:\"Green\"}\n",
        "mylist=list(d.items())\n",
        "print(mylist)"
      ],
      "execution_count": null,
      "outputs": [
        {
          "output_type": "stream",
          "name": "stdout",
          "text": [
            "[(11, 'Red'), (12, 'Blue'), (98, 'Green')]\n"
          ]
        }
      ]
    },
    {
      "cell_type": "code",
      "metadata": {
        "colab": {
          "base_uri": "https://localhost:8080/"
        },
        "id": "ztxjr39Oo1Tr",
        "outputId": "bb0f34db-1c6c-4c97-fed3-a899587c1458"
      },
      "source": [
        "n=int(input(\"enter the no:\"))\n",
        "for i in range(1,11):\n",
        "  print (n,\"x\",i,\"=\",i*n)"
      ],
      "execution_count": null,
      "outputs": [
        {
          "output_type": "stream",
          "name": "stdout",
          "text": [
            "enter the no:9\n",
            "9 x 1 = 9\n",
            "9 x 2 = 18\n",
            "9 x 3 = 27\n",
            "9 x 4 = 36\n",
            "9 x 5 = 45\n",
            "9 x 6 = 54\n",
            "9 x 7 = 63\n",
            "9 x 8 = 72\n",
            "9 x 9 = 81\n",
            "9 x 10 = 90\n"
          ]
        }
      ]
    },
    {
      "cell_type": "code",
      "metadata": {
        "colab": {
          "base_uri": "https://localhost:8080/"
        },
        "id": "jvE4wamiqwc1",
        "outputId": "23bc520a-6b70-4e9d-ccb5-f1b69c582685"
      },
      "source": [
        "n=int(input(\"enter the no:\"))\n",
        "sum=0\n",
        "for i in range(1,n+1):\n",
        "  sum=sum+1/i\n",
        "  print (sum)"
      ],
      "execution_count": null,
      "outputs": [
        {
          "output_type": "stream",
          "name": "stdout",
          "text": [
            "enter the no:5\n",
            "1.0\n",
            "1.5\n",
            "1.8333333333333333\n",
            "2.083333333333333\n",
            "2.283333333333333\n"
          ]
        }
      ]
    },
    {
      "cell_type": "code",
      "metadata": {
        "colab": {
          "base_uri": "https://localhost:8080/"
        },
        "id": "Ntq4fm5nrIkr",
        "outputId": "ad2429f9-a6b8-4615-c98f-0f71c50b641d"
      },
      "source": [
        "n=int(input(\"enter the no:\"))\n",
        "if n>1:\n",
        "  for i in range(2,n):\n",
        "    if n%i==0:\n",
        "       print(n,\"is not prime no\")\n",
        "       break\n",
        "    else:\n",
        "       print (n,\"is prime no\")\n",
        "       break"
      ],
      "execution_count": null,
      "outputs": [
        {
          "output_type": "stream",
          "name": "stdout",
          "text": [
            "enter the no:10\n",
            "10 is not prime no\n"
          ]
        }
      ]
    },
    {
      "cell_type": "code",
      "metadata": {
        "id": "QMxn1PDc07p3"
      },
      "source": [
        "f=open(\"/content/1.txt\",'wt')\n",
        "line=(\"hii how are you\\n\",\"I am aagam sheth\\n\",\"thank you \\n\")\n",
        "f.writelines(line)\n",
        "f.close()"
      ],
      "execution_count": null,
      "outputs": []
    },
    {
      "cell_type": "code",
      "metadata": {
        "id": "0U5s2LA9wA4Z",
        "colab": {
          "base_uri": "https://localhost:8080/"
        },
        "outputId": "c3a8186e-48f1-4f42-f071-4e2f3bcb7cf7"
      },
      "source": [
        "f=open(\"/content/1.txt\",'rt')\n",
        "line=f.readline()\n",
        "word=line.split()\n",
        "print(word)\n",
        "f.close()"
      ],
      "execution_count": null,
      "outputs": [
        {
          "output_type": "stream",
          "name": "stdout",
          "text": [
            "['hii', 'how', 'are', 'you']\n"
          ]
        }
      ]
    },
    {
      "cell_type": "code",
      "metadata": {
        "id": "CyYzWQ7Qvexf",
        "colab": {
          "base_uri": "https://localhost:8080/"
        },
        "outputId": "af4cbf8d-ffb1-49b6-e3ae-17f013710fd9"
      },
      "source": [
        "n=int(input(\"enter the no:\"))\n",
        "f=open(\"/content/1.txt\",'wt')\n",
        "for i in range (0,n):\n",
        "  print(\"enter line\")\n",
        "  line =input()\n",
        "  f.write(\"\\n\"+line)\n",
        "f.close()\n",
        "print(\"now read this file\")\n",
        "f=open(\"/content/1.txt\",'rt')\n",
        "print(f.read())\n",
        "f.close()"
      ],
      "execution_count": null,
      "outputs": [
        {
          "output_type": "stream",
          "name": "stdout",
          "text": [
            "enter the no:3\n",
            "enter line\n",
            "Hi \n",
            "enter line\n",
            "Aagam\n",
            "enter line\n",
            "How are you\n",
            "now read this file\n",
            "\n",
            "Hi \n",
            "Aagam\n",
            "How are you\n"
          ]
        }
      ]
    },
    {
      "cell_type": "code",
      "metadata": {
        "colab": {
          "base_uri": "https://localhost:8080/"
        },
        "id": "kTUCkEEX2UMR",
        "outputId": "dc783013-9759-45d7-eec0-ad89ae501af4"
      },
      "source": [
        "n=int(input(\"enter the no:\"))\n",
        "f=open(\"/content/1.txt\",'wt')\n",
        "for i in range (0,n):\n",
        "  print(\"enter line\")\n",
        "  line=input()\n",
        "  f.write(\"\\n\"+line)\n",
        "f.close()\n",
        "nf=open(\"/content/1.txt\",'wt')\n",
        "f=open(\"/content/1.txt\",'rt')\n",
        "for i in range(0,n+1):\n",
        "  line=f.readline()\n",
        "  nf.write(\"\\n\"+line)\n",
        "nf.close()\n",
        "f.close()\n",
        "print(\"now read this file\")\n",
        "nf=open(\"/content/1.txt\",'rt')\n",
        "print(nf.read())\n",
        "nf.close()"
      ],
      "execution_count": null,
      "outputs": [
        {
          "output_type": "stream",
          "name": "stdout",
          "text": [
            "enter the no:2\n",
            "enter line\n",
            "Hi\n",
            "enter line\n",
            "Aagam\n",
            "now read this file\n",
            "\n",
            "\n",
            "\n",
            "\n"
          ]
        }
      ]
    },
    {
      "cell_type": "code",
      "metadata": {
        "colab": {
          "base_uri": "https://localhost:8080/"
        },
        "id": "_MJWpr5o41bZ",
        "outputId": "45b781c0-6900-4929-fb90-d1c05daa66a8"
      },
      "source": [
        "\n",
        "f=open(\"/content/1.txt\",'rt')\n",
        "count=0\n",
        "for i in f:\n",
        "  word =i.split()\n",
        "  count+=1\n",
        "print (\"total no of line:\",count)\n",
        "f.close()"
      ],
      "execution_count": null,
      "outputs": [
        {
          "output_type": "stream",
          "name": "stdout",
          "text": [
            "total no of line: 3\n"
          ]
        }
      ]
    },
    {
      "cell_type": "code",
      "metadata": {
        "colab": {
          "base_uri": "https://localhost:8080/"
        },
        "id": "0RQSt_vY6Z2t",
        "outputId": "ca8d38d4-4542-42fb-d4e6-6a3bf1833f50"
      },
      "source": [
        "f=open(\"/content/1.txt\",'rt')\n",
        "count=0\n",
        "for i in f:\n",
        "  word =i.split()\n",
        "  count+=len(word)\n",
        "f.close()\n",
        "print (\"total no of word:\",count)"
      ],
      "execution_count": null,
      "outputs": [
        {
          "output_type": "stream",
          "name": "stdout",
          "text": [
            "total no of word: 0\n"
          ]
        }
      ]
    },
    {
      "cell_type": "code",
      "metadata": {
        "colab": {
          "base_uri": "https://localhost:8080/"
        },
        "id": "10mgfxfK6xaE",
        "outputId": "d48ceeee-5bfb-427c-aeef-403dd72f4dc4"
      },
      "source": [
        "f=open(\"/content/1.txt\",'rt')\n",
        "count=0\n",
        "for i in f:\n",
        "  word=i.split()\n",
        "  count+=len(i)\n",
        "f.close()\n",
        "print(count)"
      ],
      "execution_count": null,
      "outputs": [
        {
          "output_type": "stream",
          "name": "stdout",
          "text": [
            "3\n"
          ]
        }
      ]
    },
    {
      "cell_type": "code",
      "metadata": {
        "colab": {
          "base_uri": "https://localhost:8080/"
        },
        "id": "6SBKlo3N99Xq",
        "outputId": "7351cd78-7226-4f91-c5c9-ee2920b33944"
      },
      "source": [
        "f=open(\"/content/1.txt\",'rt')\n",
        "count=0\n",
        "for i in f:\n",
        "  word=i.split()\n",
        "  for letter in word:\n",
        "    if(letter.isspace):\n",
        "     count+=1\n",
        "f.close()\n",
        "print(count)"
      ],
      "execution_count": null,
      "outputs": [
        {
          "output_type": "stream",
          "name": "stdout",
          "text": [
            "0\n"
          ]
        }
      ]
    },
    {
      "cell_type": "code",
      "metadata": {
        "colab": {
          "base_uri": "https://localhost:8080/",
          "height": 634
        },
        "id": "ca8ZOeAd-hTZ",
        "outputId": "09cf46fc-22b5-4f8b-8208-75103db545ee"
      },
      "source": [
        "try:\n",
        "  a=int(input(\"enter the no of a:\"))\n",
        "  b=int(input(\"enter the no of b:\"))\n",
        "  if b==0:\n",
        "    raise DevideByZero\n",
        "  c=a/b\n",
        "  print (\"the ans is\",c)\n",
        "except DevideByZero:\n",
        "  print (\"Error:Devide By Zero\")\n",
        "  print ()"
      ],
      "execution_count": null,
      "outputs": [
        {
          "name": "stdout",
          "output_type": "stream",
          "text": [
            "enter the no of a:4\n",
            "enter the no of b:0\n"
          ]
        },
        {
          "output_type": "error",
          "ename": "NameError",
          "evalue": "ignored",
          "traceback": [
            "\u001b[0;31m---------------------------------------------------------------------------\u001b[0m",
            "\u001b[0;31mNameError\u001b[0m                                 Traceback (most recent call last)",
            "\u001b[0;32m<ipython-input-141-61f8e65b93ec>\u001b[0m in \u001b[0;36m<module>\u001b[0;34m()\u001b[0m\n\u001b[1;32m      4\u001b[0m   \u001b[0;32mif\u001b[0m \u001b[0mb\u001b[0m\u001b[0;34m==\u001b[0m\u001b[0;36m0\u001b[0m\u001b[0;34m:\u001b[0m\u001b[0;34m\u001b[0m\u001b[0;34m\u001b[0m\u001b[0m\n\u001b[0;32m----> 5\u001b[0;31m     \u001b[0;32mraise\u001b[0m \u001b[0mDevideByZero\u001b[0m\u001b[0;34m\u001b[0m\u001b[0;34m\u001b[0m\u001b[0m\n\u001b[0m\u001b[1;32m      6\u001b[0m   \u001b[0mc\u001b[0m\u001b[0;34m=\u001b[0m\u001b[0ma\u001b[0m\u001b[0;34m/\u001b[0m\u001b[0mb\u001b[0m\u001b[0;34m\u001b[0m\u001b[0;34m\u001b[0m\u001b[0m\n",
            "\u001b[0;31mNameError\u001b[0m: name 'DevideByZero' is not defined",
            "\nDuring handling of the above exception, another exception occurred:\n",
            "\u001b[0;31mNameError\u001b[0m                                 Traceback (most recent call last)",
            "\u001b[0;32m<ipython-input-141-61f8e65b93ec>\u001b[0m in \u001b[0;36m<module>\u001b[0;34m()\u001b[0m\n\u001b[1;32m      6\u001b[0m   \u001b[0mc\u001b[0m\u001b[0;34m=\u001b[0m\u001b[0ma\u001b[0m\u001b[0;34m/\u001b[0m\u001b[0mb\u001b[0m\u001b[0;34m\u001b[0m\u001b[0;34m\u001b[0m\u001b[0m\n\u001b[1;32m      7\u001b[0m   \u001b[0mprint\u001b[0m \u001b[0;34m(\u001b[0m\u001b[0;34m\"the ans is\"\u001b[0m\u001b[0;34m,\u001b[0m\u001b[0mc\u001b[0m\u001b[0;34m)\u001b[0m\u001b[0;34m\u001b[0m\u001b[0;34m\u001b[0m\u001b[0m\n\u001b[0;32m----> 8\u001b[0;31m \u001b[0;32mexcept\u001b[0m \u001b[0mDevideByZero\u001b[0m\u001b[0;34m:\u001b[0m\u001b[0;34m\u001b[0m\u001b[0;34m\u001b[0m\u001b[0m\n\u001b[0m\u001b[1;32m      9\u001b[0m   \u001b[0mprint\u001b[0m \u001b[0;34m(\u001b[0m\u001b[0;34m\"Error:Devide By Zero\"\u001b[0m\u001b[0;34m)\u001b[0m\u001b[0;34m\u001b[0m\u001b[0;34m\u001b[0m\u001b[0m\n\u001b[1;32m     10\u001b[0m   \u001b[0mprint\u001b[0m \u001b[0;34m(\u001b[0m\u001b[0;34m)\u001b[0m\u001b[0;34m\u001b[0m\u001b[0;34m\u001b[0m\u001b[0m\n",
            "\u001b[0;31mNameError\u001b[0m: name 'DevideByZero' is not defined"
          ]
        }
      ]
    },
    {
      "cell_type": "code",
      "metadata": {
        "colab": {
          "base_uri": "https://localhost:8080/"
        },
        "id": "KiwshWDaAVMR",
        "outputId": "9f4e2b7f-5936-42f0-d543-dc658725b978"
      },
      "source": [
        "\n",
        "\n",
        "mylist=[]\n",
        "n=int(input(\"enter the no:\"))\n",
        "for i in range(0,n):\n",
        "  a=int(input (\"enter the element:\"))\n",
        "  mylist.append(a)\n",
        "  print(mylist)\n",
        "print(\"max elment for this list\")\n",
        "max_elment=mylist[0]\n",
        "for i in range (0,n):\n",
        "  if(mylist[i] > max_elment):\n",
        "    max_elment=mylist[i]\n",
        "print (max_elment)\n",
        "print(\"min elment for this list\")\n",
        "min_elment=mylist[0]\n",
        "for i in range (0,n):\n",
        "  if(mylist[i] < min_elment):\n",
        "    min_elment=mylist[i]\n",
        "print (min_elment)\n",
        "\n",
        "print(\"sum of all num:\")\n",
        "sum=0\n",
        "for i in range (0,n):\n",
        "  sum=sum+mylist[i]\n",
        "print (sum)\n",
        "\n",
        "print (\"average of num:\")\n",
        "avg=sum/n\n",
        "print(avg)"
      ],
      "execution_count": null,
      "outputs": [
        {
          "output_type": "stream",
          "name": "stdout",
          "text": [
            "enter the no:3\n",
            "enter the element:34\n",
            "[34]\n",
            "enter the element:23\n",
            "[34, 23]\n",
            "enter the element:65\n",
            "[34, 23, 65]\n",
            "max elment for this list\n",
            "65\n",
            "min elment for this list\n",
            "23\n",
            "sum of all num:\n",
            "122\n",
            "average of num:\n",
            "40.666666666666664\n"
          ]
        }
      ]
    },
    {
      "cell_type": "code",
      "metadata": {
        "colab": {
          "base_uri": "https://localhost:8080/"
        },
        "id": "ntFXTER7CnOQ",
        "outputId": "0d7c41c4-aebf-4eed-998b-d7520343d31b"
      },
      "source": [
        "days=365\n",
        "hours=24\n",
        "minutes=60\n",
        "second=60\n",
        "print(\"no of second in year\",days*hours*minutes*second)"
      ],
      "execution_count": null,
      "outputs": [
        {
          "output_type": "stream",
          "name": "stdout",
          "text": [
            "no of second in year 31536000\n"
          ]
        }
      ]
    },
    {
      "cell_type": "code",
      "metadata": {
        "colab": {
          "base_uri": "https://localhost:8080/"
        },
        "id": "TsNsRhfNR2E7",
        "outputId": "1fc7d5c3-50f1-4d8a-8d21-9e21bb64dbc4"
      },
      "source": [
        "days=365\n",
        "hours=24\n",
        "minutes=60\n",
        "print(\"no of minutes in year\",days*hours*minutes)"
      ],
      "execution_count": null,
      "outputs": [
        {
          "output_type": "stream",
          "name": "stdout",
          "text": [
            "no of minutes in year 525600\n"
          ]
        }
      ]
    },
    {
      "cell_type": "code",
      "metadata": {
        "id": "-vmDwIilSces"
      },
      "source": [
        "print(\"Input three integers(sides of a triangle)\")\n",
        "int_num = list(map(int,input().split()))\n",
        "x,y,z = sorted(int_num)\n",
        "if x**2+y**2==z**2:\n",
        "   print('Yes')\n",
        "else:\n",
        "   print('No')"
      ],
      "execution_count": null,
      "outputs": []
    },
    {
      "cell_type": "code",
      "metadata": {
        "colab": {
          "base_uri": "https://localhost:8080/"
        },
        "id": "ZS-q7pbBWi1L",
        "outputId": "c3b698d9-e076-4cf0-eb0b-0c4979a91edd"
      },
      "source": [
        "dec=int(input (\"enter the decimal no:\"))\n",
        "print(bin(dec))\n",
        "print(hex(dec))"
      ],
      "execution_count": null,
      "outputs": [
        {
          "output_type": "stream",
          "name": "stdout",
          "text": [
            "enter the decimal no:35\n",
            "0b100011\n",
            "0x23\n"
          ]
        }
      ]
    },
    {
      "cell_type": "code",
      "metadata": {
        "colab": {
          "base_uri": "https://localhost:8080/"
        },
        "id": "6mZcjuKTXXYg",
        "outputId": "c4956d62-bc35-4103-ae1f-177676c16854"
      },
      "source": [
        "def even_no(n):\n",
        "  n=int(input(\"enter no:\"))\n",
        "  if n%2==0:\n",
        "    print(\"true\")\n",
        "  else:\n",
        "    print(\"false\")\n",
        "even_no(n)"
      ],
      "execution_count": null,
      "outputs": [
        {
          "output_type": "stream",
          "name": "stdout",
          "text": [
            "enter no:2\n",
            "true\n"
          ]
        }
      ]
    },
    {
      "cell_type": "code",
      "metadata": {
        "colab": {
          "base_uri": "https://localhost:8080/"
        },
        "id": "ZdMAjBcdYj8t",
        "outputId": "500f2473-2545-4e89-9c55-48fc288431c5"
      },
      "source": [
        "def factorial_no(n):\n",
        "  ans=1\n",
        "  for i in range(1,n+1):\n",
        "    ans=ans*i\n",
        "  print (ans)\n",
        "factorial_no(5)"
      ],
      "execution_count": null,
      "outputs": [
        {
          "output_type": "stream",
          "name": "stdout",
          "text": [
            "120\n"
          ]
        }
      ]
    },
    {
      "cell_type": "code",
      "metadata": {
        "colab": {
          "base_uri": "https://localhost:8080/"
        },
        "id": "IyGj1tLEZpyl",
        "outputId": "479f415d-c01c-461c-a5d0-a57ef2a4cef3"
      },
      "source": [
        "d={'b':35,'a':45}\n",
        "list=d['a']\n",
        "print (list)\n",
        "print(len(d))"
      ],
      "execution_count": null,
      "outputs": [
        {
          "output_type": "stream",
          "name": "stdout",
          "text": [
            "45\n",
            "2\n"
          ]
        }
      ]
    },
    {
      "cell_type": "code",
      "metadata": {
        "colab": {
          "base_uri": "https://localhost:8080/"
        },
        "id": "n11KY0DSl2VU",
        "outputId": "bd24f9c6-16b8-4eaf-a3b6-bd042e0908c2"
      },
      "source": [
        "def area_circle(r):\n",
        "  pi=3.14\n",
        "  circle=pi*r*r\n",
        "  print (\"area of circle is \", circle)\n",
        "r=int(input())\n",
        "area_circle(r)"
      ],
      "execution_count": null,
      "outputs": [
        {
          "output_type": "stream",
          "name": "stdout",
          "text": [
            "2\n",
            "area of circle is  12.56\n"
          ]
        }
      ]
    },
    {
      "cell_type": "code",
      "metadata": {
        "colab": {
          "base_uri": "https://localhost:8080/"
        },
        "id": "YkZQ_hcOnE2R",
        "outputId": "33faf4b0-acba-4d37-a413-03e63f0c263e"
      },
      "source": [
        "def fibb_num(n):\n",
        "  a=0\n",
        "  b=1\n",
        "  i=0\n",
        "  while i<n:\n",
        "   c=a+b\n",
        "   a=b\n",
        "   b=c \n",
        "   i=i+1\n",
        "   print(a)\n",
        "n=int(input(\"Fibonacci sequence\"))\n",
        "fibb_num(n)"
      ],
      "execution_count": null,
      "outputs": [
        {
          "output_type": "stream",
          "name": "stdout",
          "text": [
            "Fibonacci sequence9\n",
            "1\n",
            "1\n",
            "2\n",
            "3\n",
            "5\n",
            "8\n",
            "13\n",
            "21\n",
            "34\n"
          ]
        }
      ]
    },
    {
      "cell_type": "code",
      "metadata": {
        "colab": {
          "base_uri": "https://localhost:8080/"
        },
        "id": "pKjMkdA-nho7",
        "outputId": "3602108d-86bb-4fb3-ad6e-3d8efe415de8"
      },
      "source": [
        "def swap_no(a,b):\n",
        "  temp=a\n",
        "  a=b\n",
        "  b=temp\n",
        "  print (\"after swapping\")\n",
        "  print (a)\n",
        "  print (b)\n",
        "swap_no(20,50)"
      ],
      "execution_count": null,
      "outputs": [
        {
          "output_type": "stream",
          "name": "stdout",
          "text": [
            "after swapping\n",
            "50\n",
            "20\n"
          ]
        }
      ]
    },
    {
      "cell_type": "code",
      "metadata": {
        "colab": {
          "base_uri": "https://localhost:8080/"
        },
        "id": "zGzuZQl8oLbl",
        "outputId": "103aca29-651d-44fb-bd7a-c80f52caaa7f"
      },
      "source": [
        "def max(a,b,c):\n",
        "  if(a>b and a>c):\n",
        "    print (\"a is large\")\n",
        "  elif(b>c and b>a):\n",
        "    print (\"b is large\")\n",
        "  else:\n",
        "    print(\"c is large\")\n",
        "max(20,60,56)"
      ],
      "execution_count": null,
      "outputs": [
        {
          "output_type": "stream",
          "name": "stdout",
          "text": [
            "b is large\n"
          ]
        }
      ]
    },
    {
      "cell_type": "code",
      "metadata": {
        "colab": {
          "base_uri": "https://localhost:8080/"
        },
        "id": "Toqff7Oho_Su",
        "outputId": "a16bf230-84ef-4c62-b4f0-0faf9fe08d26"
      },
      "source": [
        "def square ():\n",
        "  mylist=[]\n",
        "  for i in range(1,31):\n",
        "    mylist.append(i**2)\n",
        "  print (mylist)\n",
        "square ()"
      ],
      "execution_count": null,
      "outputs": [
        {
          "output_type": "stream",
          "name": "stdout",
          "text": [
            "[1, 4, 9, 16, 25, 36, 49, 64, 81, 100, 121, 144, 169, 196, 225, 256, 289, 324, 361, 400, 441, 484, 529, 576, 625, 676, 729, 784, 841, 900]\n"
          ]
        }
      ]
    },
    {
      "cell_type": "code",
      "metadata": {
        "colab": {
          "base_uri": "https://localhost:8080/"
        },
        "id": "nXZatnsBqIzy",
        "outputId": "c30a137f-c92e-40b0-8e54-dce53c4ac966"
      },
      "source": [
        "def leap(year):\n",
        "  if(year%4==0):\n",
        "    if(year%400==0):\n",
        "       print (year,\"is a leap year\")\n",
        "  elif(year%100==0):\n",
        "     print (year,\"is not leap year\")\n",
        "  else: \n",
        "     print (year,\"is not leap year\")\n",
        "year=int(input())\n",
        "leap(year)"
      ],
      "execution_count": null,
      "outputs": [
        {
          "output_type": "stream",
          "name": "stdout",
          "text": [
            "2001\n",
            "2001 is not leap year\n"
          ]
        }
      ]
    },
    {
      "cell_type": "code",
      "metadata": {
        "id": "k8A8FJYarGdK"
      },
      "source": [
        "def isprime(n):\n",
        "  while n>1: \n",
        "    for i in range(2,n):\n",
        "      if(n%i)==0:\n",
        "        print (i,\"is not prime no\")\n",
        "       break \n",
        "      else: \n",
        "        print(i,\"is prime no\")\n",
        "       break\n",
        "isprime(n)"
      ],
      "execution_count": null,
      "outputs": []
    },
    {
      "cell_type": "code",
      "metadata": {
        "id": "X5J_vRTir4mF"
      },
      "source": [
        "def isprime(n):\n",
        "  while n>1: \n",
        "    for i in range(2,n):\n",
        "      if(n%i)==0:\n",
        "        print (i,\"is not prime no\")\n",
        "      break\n",
        "      else: \n",
        "        print(i,\"is prime no\")\n",
        "      break\n",
        "isprime(n)"
      ],
      "execution_count": null,
      "outputs": []
    },
    {
      "cell_type": "code",
      "metadata": {
        "colab": {
          "base_uri": "https://localhost:8080/"
        },
        "id": "dZiXcQrrsDRk",
        "outputId": "e3224065-6ebe-4d49-c476-a8cce58854da"
      },
      "source": [
        "def isprime(n):\n",
        "  if n> 1: \n",
        "    for i in range(2,n):\n",
        "      if(n%i)==0:\n",
        "        print (n,\"is not prime no\")\n",
        "        break\n",
        "      else: \n",
        "        print(n,\"is prime no\")\n",
        "        break\n",
        "isprime(3)"
      ],
      "execution_count": null,
      "outputs": [
        {
          "output_type": "stream",
          "name": "stdout",
          "text": [
            "3 is prime no\n"
          ]
        }
      ]
    },
    {
      "cell_type": "code",
      "metadata": {
        "colab": {
          "base_uri": "https://localhost:8080/"
        },
        "id": "G1GxnFM3sfpt",
        "outputId": "1075840b-e5a6-4e21-eeff-536a9d2d0032"
      },
      "source": [
        "def Reverse(num):\n",
        "  sum=0\n",
        "  while (num!=0):\n",
        "    sum=sum*10+num%10\n",
        "    num=num//10\n",
        "  return sum\n",
        "num=int(input())\n",
        "Reverse (num)"
      ],
      "execution_count": null,
      "outputs": [
        {
          "name": "stdout",
          "output_type": "stream",
          "text": [
            "1334\n"
          ]
        },
        {
          "output_type": "execute_result",
          "data": {
            "text/plain": [
              "4331"
            ]
          },
          "metadata": {},
          "execution_count": 76
        }
      ]
    },
    {
      "cell_type": "code",
      "metadata": {
        "colab": {
          "base_uri": "https://localhost:8080/"
        },
        "id": "0mx4h68jtAtN",
        "outputId": "18ebe6ac-1f52-4778-b25c-a721270a0352"
      },
      "source": [
        "def factorial (n):\n",
        "  ans=1\n",
        "  for i in range(n,0,-1):\n",
        "    ans=ans*i\n",
        "  return ans \n",
        "factorial (5)"
      ],
      "execution_count": null,
      "outputs": [
        {
          "output_type": "execute_result",
          "data": {
            "text/plain": [
              "120"
            ]
          },
          "metadata": {},
          "execution_count": 79
        }
      ]
    },
    {
      "cell_type": "code",
      "metadata": {
        "colab": {
          "base_uri": "https://localhost:8080/"
        },
        "id": "rpQ6SBFpwSnx",
        "outputId": "f1962c27-f07f-4f1d-9bf4-5def8b46dcbd"
      },
      "source": [
        "def palindrom(num):\n",
        "  sum=0\n",
        "  temp=num\n",
        "  while (num!=0):\n",
        "    sum=sum*10+num%10\n",
        "    num= num//10\n",
        "  if(temp==sum): \n",
        "    print(temp,\"is palindrom\")\n",
        "  else:\n",
        "    print(temp,\"is not palindrom\")\n",
        "num=int(input())\n",
        "palindrom (num)"
      ],
      "execution_count": null,
      "outputs": [
        {
          "output_type": "stream",
          "name": "stdout",
          "text": [
            "8437\n",
            "8437 is not palindrom\n"
          ]
        }
      ]
    },
    {
      "cell_type": "code",
      "source": [
        "def palindrom(num):\n",
        "  sum=0\n",
        "  temp=num\n",
        "  while (num!=0):\n",
        "    sum=sum*10+num%10\n",
        "    num=num//10\n",
        "  if(temp==sum):\n",
        "      print (temp,\"is palindrom\")\n",
        "  else:\n",
        "      print (temp,\"is not palindrom\")\n",
        "num=int(input())\n",
        "palindrom(num)"
      ],
      "metadata": {
        "colab": {
          "base_uri": "https://localhost:8080/"
        },
        "id": "Pw4HGtM65QqJ",
        "outputId": "9c6844c7-6de4-4483-a844-06e61db954e8"
      },
      "execution_count": null,
      "outputs": [
        {
          "output_type": "stream",
          "name": "stdout",
          "text": [
            "321\n",
            "321 is not palindrom\n"
          ]
        }
      ]
    },
    {
      "cell_type": "code",
      "source": [
        ""
      ],
      "metadata": {
        "id": "pxZkQzMS9ioQ"
      },
      "execution_count": null,
      "outputs": []
    }
  ]
}